{
 "cells": [
  {
   "cell_type": "code",
   "execution_count": null,
   "metadata": {
    "id": "OU5oUPtiXXva"
   },
   "outputs": [],
   "source": [
    "import numpy as np\n",
    "\n",
    "\n",
    "def synth_seq_gen(seq_length, wavelength, second_wavelength, second_wavelength_cos, amplitude, amplitude_ratio,  shift_exp=10,power=1.8, k =0.00019,\n",
    "                                 direction= -1):\n",
    "    # Generate the x values\n",
    "    x = np.linspace(0, seq_length, seq_length)\n",
    "\n",
    "    # Align wavelengths with sequence lengths\n",
    "    wavelength = seq_length / wavelength\n",
    "    second_wavelength = seq_length / second_wavelength\n",
    "    second_wavelength_cos = seq_length / (second_wavelength_cos * 10 * np.random.rand(1))\n",
    "\n",
    "    # Calculate the shift for the exponential component\n",
    "    shift_exp = seq_length / shift_exp\n",
    "\n",
    "    # Exponential component\n",
    "    exp_component = amplitude * np.cos(2 * np.sin(2 * np.cos(2 * np.pi * (x + shift_exp) / second_wavelength)))\n",
    "\n",
    "    # Large amplitude component\n",
    "    large_component = (amplitude * amplitude_ratio) * np.sin(2 * np.pi * x / wavelength)\n",
    "\n",
    "    # Second wavelength component\n",
    "    second_component = amplitude * np.sin(2 * np.pi * x / second_wavelength) * np.cos(1.1 * np.pi * x / second_wavelength_cos)\n",
    "\n",
    "    # Polynomial component\n",
    "    polynomial_component = direction * (k * x**power)\n",
    "\n",
    "    # Noise component\n",
    "    noise_component = 2 * np.random.standard_normal(seq_length) * np.random.randint(2, size=seq_length)\n",
    "\n",
    "    # Combine all components\n",
    "    return large_component + second_component + polynomial_component + exp_component + noise_component\n"
   ]
  },
  {
   "cell_type": "code",
   "execution_count": null,
   "metadata": {
    "colab": {
     "base_uri": "https://localhost:8080/",
     "height": 1000
    },
    "executionInfo": {
     "elapsed": 30594,
     "status": "error",
     "timestamp": 1734804749248,
     "user": {
      "displayName": "hassan Ahmed Hassan",
      "userId": "13844237415243216374"
     },
     "user_tz": 0
    },
    "id": "yWl1GsLIY4Je",
    "outputId": "2a48259f-962d-4065-db8a-b7502fa796dd"
   },
   "outputs": [],
   "source": [
    "import itertools\n",
    "from tqdm import tqdm\n",
    "import matplotlib.pyplot as plt\n",
    "\n",
    "domains = [-1, 1] # direction\n",
    "bases = [1.6, 1.7, 1.8, 1] # power\n",
    "first_levels = [i + 1 for i in range(10)] # wavelength\n",
    "second_levels = [i + 1 for i in range(10)] # second_wavelength\n",
    "third_levels = [(i + 1) for i in range(10)] # second_wavelength_cos\n",
    "fourth_levels = [10, 20, 30, 40, 50] # amplitude\n",
    "fifth_levels = [1, 1.5, 2, 3, 5, 6] # amplitude_ratio\n",
    "\n",
    "seqs = []\n",
    "count = 0\n",
    "# Generate all combinations of the parameters\n",
    "combinations = itertools.product(domains, bases, first_levels, second_levels, third_levels, fourth_levels, fifth_levels)\n",
    "\n",
    "for (domain, base, first_level, second_level, third_level, fourth_level, fifth_level) in tqdm(combinations):\n",
    "\n",
    "\n",
    "    seq = {\n",
    "        'seq': synth_seq_gen(seq_length=4096, wavelength=first_level,\n",
    "                                             second_wavelength=second_level,\n",
    "                                             second_wavelength_cos=third_level,\n",
    "                                             amplitude=fourth_level,\n",
    "                                             amplitude_ratio=fifth_level,\n",
    "                                             power=base,\n",
    "                                             direction=domain).astype(int),\n",
    "        'domain': domain,\n",
    "        'base': base,\n",
    "        'wavelength': first_level,\n",
    "        'second_wavelength': second_level,\n",
    "        'second_wavelength_cos': third_level,\n",
    "        'amplitude': fourth_level,\n",
    "        'ampltitude_ratio': fifth_level\n",
    "    }\n",
    "    seqs.append(seq)\n",
    "    count += 1\n",
    "    if count %1000 ==0 :\n",
    "      plt.plot(seq['seq'])\n",
    "      plt.savefig(f'outputs/seq_{count}.png')\n",
    "      plt.show()\n",
    "      plt.close()\n",
    "\n",
    "print(f'Total sequences generated: {len(seqs)}')\n"
   ]
  },
  {
   "cell_type": "code",
   "execution_count": null,
   "metadata": {
    "colab": {
     "base_uri": "https://localhost:8080/"
    },
    "executionInfo": {
     "elapsed": 213,
     "status": "ok",
     "timestamp": 1734804790645,
     "user": {
      "displayName": "hassan Ahmed Hassan",
      "userId": "13844237415243216374"
     },
     "user_tz": 0
    },
    "id": "IS-Wkl7rbDmN",
    "outputId": "5ea085df-6a90-4371-d0b8-c4eec062e679"
   },
   "outputs": [],
   "source": [
    "!zip -r /content/images.zip /content/images"
   ]
  },
  {
   "cell_type": "code",
   "execution_count": null,
   "metadata": {
    "id": "PHj4CeriZrNn"
   },
   "outputs": [],
   "source": [
    "import matplotlib.pyplot as plt"
   ]
  },
  {
   "cell_type": "code",
   "execution_count": null,
   "metadata": {
    "id": "Bvj3RyQFZP91"
   },
   "outputs": [],
   "source": [
    "seqqq = synth_seq_gen(seq_length=4096, wavelength=first_level,\n",
    "                                             second_wavelength=second_level,\n",
    "                                             second_wavelength_cos=third_level,\n",
    "                                             amplitude=fourth_level,\n",
    "                                             amplitude_ratio=fifth_level,\n",
    "                                             power=base,\n",
    "                                             direction=domain).astype(int)"
   ]
  },
  {
   "cell_type": "code",
   "execution_count": null,
   "metadata": {
    "colab": {
     "base_uri": "https://localhost:8080/",
     "height": 447
    },
    "executionInfo": {
     "elapsed": 472,
     "status": "ok",
     "timestamp": 1734804469421,
     "user": {
      "displayName": "hassan Ahmed Hassan",
      "userId": "13844237415243216374"
     },
     "user_tz": 0
    },
    "id": "2HD0IFunZ0nG",
    "outputId": "92565730-903d-4662-edc0-e9d7b4aacea4"
   },
   "outputs": [],
   "source": [
    "plt.plot(seqqq)"
   ]
  }
 ],
 "metadata": {
  "colab": {
   "authorship_tag": "ABX9TyP8vgYm/nxy5sCnejXgAiEr",
   "provenance": []
  },
  "kernelspec": {
   "display_name": "bioinfo",
   "language": "python",
   "name": "python3"
  },
  "language_info": {
   "codemirror_mode": {
    "name": "ipython",
    "version": 3
   },
   "file_extension": ".py",
   "mimetype": "text/x-python",
   "name": "python",
   "nbconvert_exporter": "python",
   "pygments_lexer": "ipython3",
   "version": "3.11.7"
  }
 },
 "nbformat": 4,
 "nbformat_minor": 0
}
